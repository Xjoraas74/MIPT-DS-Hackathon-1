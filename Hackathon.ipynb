{
 "cells": [
  {
   "cell_type": "markdown",
   "id": "1aa50166-4977-49fe-9a31-1b2633d8a554",
   "metadata": {},
   "source": [
    "# Определение типа воды по качеству"
   ]
  },
  {
   "cell_type": "code",
   "execution_count": 1,
   "id": "658f99a4-1fa0-43d3-9047-77a5daac1b5f",
   "metadata": {},
   "outputs": [],
   "source": [
    "# импорт необходимых библиотек\n",
    "import pandas as pd\n",
    "import numpy as np\n",
    "from sklearn.preprocessing import LabelEncoder\n",
    "from sklearn.model_selection import train_test_split, GridSearchCV\n",
    "from sklearn.ensemble import BaggingClassifier\n",
    "from sklearn.tree import DecisionTreeClassifier\n",
    "from sklearn.linear_model import LogisticRegression\n",
    "from sklearn.metrics import accuracy_score\n",
    "from sklearn.metrics import confusion_matrix\n",
    "import xgboost as xgb\n",
    "from xgboost import plot_importance\n",
    "import catboost as cb\n",
    "from hyperopt import hp, fmin, tpe, Trials\n",
    "import seaborn as sns\n",
    "import matplotlib.pyplot as plt\n",
    "import pickle"
   ]
  },
  {
   "cell_type": "code",
   "execution_count": 2,
   "id": "e7de971d-fd51-4e39-bf93-6b87a604e19b",
   "metadata": {},
   "outputs": [
    {
     "name": "stderr",
     "output_type": "stream",
     "text": [
      "/var/folders/1b/k9jr1c9576n77p09jjgpyf980000gn/T/ipykernel_26163/410655265.py:1: DtypeWarning: Columns (7) have mixed types. Specify dtype option on import or set low_memory=False.\n",
      "  df = pd.read_csv('Downloads/Drinking_water.csv')\n"
     ]
    },
    {
     "data": {
      "text/html": [
       "<div>\n",
       "<style scoped>\n",
       "    .dataframe tbody tr th:only-of-type {\n",
       "        vertical-align: middle;\n",
       "    }\n",
       "\n",
       "    .dataframe tbody tr th {\n",
       "        vertical-align: top;\n",
       "    }\n",
       "\n",
       "    .dataframe thead th {\n",
       "        text-align: right;\n",
       "    }\n",
       "</style>\n",
       "<table border=\"1\" class=\"dataframe\">\n",
       "  <thead>\n",
       "    <tr style=\"text-align: right;\">\n",
       "      <th></th>\n",
       "      <th>Sample Number</th>\n",
       "      <th>Sample Date</th>\n",
       "      <th>Sample Time</th>\n",
       "      <th>Sample Site</th>\n",
       "      <th>Sample class</th>\n",
       "      <th>Residual Free Chlorine (mg/L)</th>\n",
       "      <th>Turbidity (NTU)</th>\n",
       "      <th>Fluoride (mg/L)</th>\n",
       "      <th>Coliform (Quanti-Tray) (MPN /100mL)</th>\n",
       "      <th>E.coli(Quanti-Tray) (MPN/100mL)</th>\n",
       "    </tr>\n",
       "  </thead>\n",
       "  <tbody>\n",
       "    <tr>\n",
       "      <th>0</th>\n",
       "      <td>202120243</td>\n",
       "      <td>07/01/2021</td>\n",
       "      <td>10:31</td>\n",
       "      <td>23650</td>\n",
       "      <td>Compliance</td>\n",
       "      <td>0.22</td>\n",
       "      <td>0.84</td>\n",
       "      <td>NaN</td>\n",
       "      <td>&lt;1</td>\n",
       "      <td>&lt;1</td>\n",
       "    </tr>\n",
       "    <tr>\n",
       "      <th>1</th>\n",
       "      <td>202120244</td>\n",
       "      <td>07/01/2021</td>\n",
       "      <td>09:54</td>\n",
       "      <td>29550</td>\n",
       "      <td>Compliance</td>\n",
       "      <td>0.69</td>\n",
       "      <td>0.81</td>\n",
       "      <td>NaN</td>\n",
       "      <td>&lt;1</td>\n",
       "      <td>&lt;1</td>\n",
       "    </tr>\n",
       "    <tr>\n",
       "      <th>2</th>\n",
       "      <td>202120245</td>\n",
       "      <td>07/01/2021</td>\n",
       "      <td>07:52</td>\n",
       "      <td>50200</td>\n",
       "      <td>Operational</td>\n",
       "      <td>0.55</td>\n",
       "      <td>0.77</td>\n",
       "      <td>NaN</td>\n",
       "      <td>&lt;1</td>\n",
       "      <td>&lt;1</td>\n",
       "    </tr>\n",
       "    <tr>\n",
       "      <th>3</th>\n",
       "      <td>202120246</td>\n",
       "      <td>07/01/2021</td>\n",
       "      <td>08:12</td>\n",
       "      <td>50250</td>\n",
       "      <td>Compliance</td>\n",
       "      <td>0.87</td>\n",
       "      <td>0.81</td>\n",
       "      <td>NaN</td>\n",
       "      <td>&lt;1</td>\n",
       "      <td>&lt;1</td>\n",
       "    </tr>\n",
       "    <tr>\n",
       "      <th>4</th>\n",
       "      <td>202120247</td>\n",
       "      <td>07/01/2021</td>\n",
       "      <td>08:31</td>\n",
       "      <td>50300</td>\n",
       "      <td>Operational</td>\n",
       "      <td>0.80</td>\n",
       "      <td>0.84</td>\n",
       "      <td>NaN</td>\n",
       "      <td>&lt;1</td>\n",
       "      <td>&lt;1</td>\n",
       "    </tr>\n",
       "    <tr>\n",
       "      <th>...</th>\n",
       "      <td>...</td>\n",
       "      <td>...</td>\n",
       "      <td>...</td>\n",
       "      <td>...</td>\n",
       "      <td>...</td>\n",
       "      <td>...</td>\n",
       "      <td>...</td>\n",
       "      <td>...</td>\n",
       "      <td>...</td>\n",
       "      <td>...</td>\n",
       "    </tr>\n",
       "    <tr>\n",
       "      <th>136430</th>\n",
       "      <td>202329514</td>\n",
       "      <td>11/13/2023</td>\n",
       "      <td>1899-12-31T09:27:00.000</td>\n",
       "      <td>37950</td>\n",
       "      <td>Compliance</td>\n",
       "      <td>NaN</td>\n",
       "      <td>NaN</td>\n",
       "      <td>NaN</td>\n",
       "      <td>NaN</td>\n",
       "      <td>NaN</td>\n",
       "    </tr>\n",
       "    <tr>\n",
       "      <th>136431</th>\n",
       "      <td>202329520</td>\n",
       "      <td>11/13/2023</td>\n",
       "      <td>1899-12-31T09:54:00.000</td>\n",
       "      <td>38250</td>\n",
       "      <td>Compliance</td>\n",
       "      <td>NaN</td>\n",
       "      <td>NaN</td>\n",
       "      <td>NaN</td>\n",
       "      <td>NaN</td>\n",
       "      <td>NaN</td>\n",
       "    </tr>\n",
       "    <tr>\n",
       "      <th>136432</th>\n",
       "      <td>202329515</td>\n",
       "      <td>11/13/2023</td>\n",
       "      <td>1899-12-31T08:35:00.000</td>\n",
       "      <td>39650</td>\n",
       "      <td>Compliance</td>\n",
       "      <td>NaN</td>\n",
       "      <td>NaN</td>\n",
       "      <td>NaN</td>\n",
       "      <td>NaN</td>\n",
       "      <td>NaN</td>\n",
       "    </tr>\n",
       "    <tr>\n",
       "      <th>136433</th>\n",
       "      <td>202329559</td>\n",
       "      <td>11/13/2023</td>\n",
       "      <td>1899-12-31T08:55:00.000</td>\n",
       "      <td>3SC26</td>\n",
       "      <td>Operational</td>\n",
       "      <td>0.84</td>\n",
       "      <td>0.76</td>\n",
       "      <td>NaN</td>\n",
       "      <td>&lt;1</td>\n",
       "      <td>&lt;1</td>\n",
       "    </tr>\n",
       "    <tr>\n",
       "      <th>136434</th>\n",
       "      <td>202329522</td>\n",
       "      <td>11/13/2023</td>\n",
       "      <td>1899-12-31T08:48:00.000</td>\n",
       "      <td>44350</td>\n",
       "      <td>Compliance</td>\n",
       "      <td>NaN</td>\n",
       "      <td>NaN</td>\n",
       "      <td>NaN</td>\n",
       "      <td>NaN</td>\n",
       "      <td>NaN</td>\n",
       "    </tr>\n",
       "  </tbody>\n",
       "</table>\n",
       "<p>136435 rows × 10 columns</p>\n",
       "</div>"
      ],
      "text/plain": [
       "        Sample Number Sample Date              Sample Time Sample Site  \\\n",
       "0           202120243  07/01/2021                    10:31       23650   \n",
       "1           202120244  07/01/2021                    09:54       29550   \n",
       "2           202120245  07/01/2021                    07:52       50200   \n",
       "3           202120246  07/01/2021                    08:12       50250   \n",
       "4           202120247  07/01/2021                    08:31       50300   \n",
       "...               ...         ...                      ...         ...   \n",
       "136430      202329514  11/13/2023  1899-12-31T09:27:00.000       37950   \n",
       "136431      202329520  11/13/2023  1899-12-31T09:54:00.000       38250   \n",
       "136432      202329515  11/13/2023  1899-12-31T08:35:00.000       39650   \n",
       "136433      202329559  11/13/2023  1899-12-31T08:55:00.000       3SC26   \n",
       "136434      202329522  11/13/2023  1899-12-31T08:48:00.000       44350   \n",
       "\n",
       "       Sample class  Residual Free Chlorine (mg/L) Turbidity (NTU)  \\\n",
       "0        Compliance                           0.22            0.84   \n",
       "1        Compliance                           0.69            0.81   \n",
       "2       Operational                           0.55            0.77   \n",
       "3        Compliance                           0.87            0.81   \n",
       "4       Operational                           0.80            0.84   \n",
       "...             ...                            ...             ...   \n",
       "136430   Compliance                            NaN             NaN   \n",
       "136431   Compliance                            NaN             NaN   \n",
       "136432   Compliance                            NaN             NaN   \n",
       "136433  Operational                           0.84            0.76   \n",
       "136434   Compliance                            NaN             NaN   \n",
       "\n",
       "       Fluoride (mg/L) Coliform (Quanti-Tray) (MPN /100mL)  \\\n",
       "0                  NaN                                  <1   \n",
       "1                  NaN                                  <1   \n",
       "2                  NaN                                  <1   \n",
       "3                  NaN                                  <1   \n",
       "4                  NaN                                  <1   \n",
       "...                ...                                 ...   \n",
       "136430             NaN                                 NaN   \n",
       "136431             NaN                                 NaN   \n",
       "136432             NaN                                 NaN   \n",
       "136433             NaN                                  <1   \n",
       "136434             NaN                                 NaN   \n",
       "\n",
       "       E.coli(Quanti-Tray) (MPN/100mL)  \n",
       "0                                   <1  \n",
       "1                                   <1  \n",
       "2                                   <1  \n",
       "3                                   <1  \n",
       "4                                   <1  \n",
       "...                                ...  \n",
       "136430                             NaN  \n",
       "136431                             NaN  \n",
       "136432                             NaN  \n",
       "136433                              <1  \n",
       "136434                             NaN  \n",
       "\n",
       "[136435 rows x 10 columns]"
      ]
     },
     "execution_count": 2,
     "metadata": {},
     "output_type": "execute_result"
    }
   ],
   "source": [
    "df = pd.read_csv('Downloads/Drinking_water.csv')\n",
    "df"
   ]
  },
  {
   "cell_type": "markdown",
   "id": "63a8366a-d3cd-4cdf-8f55-f35b87d050c2",
   "metadata": {},
   "source": [
    "## Предобработка данных"
   ]
  },
  {
   "cell_type": "code",
   "execution_count": 3,
   "id": "b4122aab-6167-47ec-a5cc-14cac3d0d8ea",
   "metadata": {},
   "outputs": [],
   "source": [
    "# Удаляю лишние строки\n",
    "new_df = df.drop(['Sample Number', 'Sample Date', 'Sample Time', 'Sample Site'], axis=1)"
   ]
  },
  {
   "cell_type": "code",
   "execution_count": 4,
   "id": "1fc18201-4e2a-4b07-9b2d-3c490fd85ad4",
   "metadata": {},
   "outputs": [
    {
     "name": "stdout",
     "output_type": "stream",
     "text": [
      "<class 'pandas.core.frame.DataFrame'>\n",
      "RangeIndex: 136435 entries, 0 to 136434\n",
      "Data columns (total 6 columns):\n",
      " #   Column                               Non-Null Count   Dtype  \n",
      "---  ------                               --------------   -----  \n",
      " 0   Sample class                         136435 non-null  object \n",
      " 1   Residual Free Chlorine (mg/L)        136405 non-null  float64\n",
      " 2   Turbidity (NTU)                      136403 non-null  object \n",
      " 3   Fluoride (mg/L)                      17972 non-null   object \n",
      " 4   Coliform (Quanti-Tray) (MPN /100mL)  136340 non-null  object \n",
      " 5   E.coli(Quanti-Tray) (MPN/100mL)      136340 non-null  object \n",
      "dtypes: float64(1), object(5)\n",
      "memory usage: 6.2+ MB\n"
     ]
    }
   ],
   "source": [
    "new_df.info()"
   ]
  },
  {
   "cell_type": "code",
   "execution_count": 5,
   "id": "dda0c3a0-f886-4b3b-ab45-fc358161fcc8",
   "metadata": {},
   "outputs": [
    {
     "name": "stderr",
     "output_type": "stream",
     "text": [
      "/var/folders/1b/k9jr1c9576n77p09jjgpyf980000gn/T/ipykernel_26163/259687332.py:9: FutureWarning: DataFrame.applymap has been deprecated. Use DataFrame.map instead.\n",
      "  new_df[columns_to_clean] = new_df[columns_to_clean].applymap(clean_column_values)\n"
     ]
    }
   ],
   "source": [
    "# Функция для удаления знаков '<>'\n",
    "def clean_column_values(value):\n",
    "    if isinstance(value, str):\n",
    "        value = value.replace('<', '').replace('>', '')\n",
    "    return float(value) if value else None\n",
    "\n",
    "# Удаляю знаки '<>'\n",
    "columns_to_clean = ['Turbidity (NTU)', 'Fluoride (mg/L)', 'Coliform (Quanti-Tray) (MPN /100mL)', 'E.coli(Quanti-Tray) (MPN/100mL)']\n",
    "new_df[columns_to_clean] = new_df[columns_to_clean].applymap(clean_column_values)"
   ]
  },
  {
   "cell_type": "code",
   "execution_count": 6,
   "id": "d0b12f3b-af04-4795-8c3d-e2ee278f842c",
   "metadata": {},
   "outputs": [
    {
     "data": {
      "text/plain": [
       "count         136435\n",
       "unique             5\n",
       "top       Compliance\n",
       "freq           84897\n",
       "Name: Sample class, dtype: object"
      ]
     },
     "execution_count": 6,
     "metadata": {},
     "output_type": "execute_result"
    }
   ],
   "source": [
    "new_df['Sample class'].describe()"
   ]
  },
  {
   "cell_type": "code",
   "execution_count": 7,
   "id": "b5a31cda-b6fd-4b0c-bb4c-990c92a955f1",
   "metadata": {},
   "outputs": [
    {
     "data": {
      "text/html": [
       "<div>\n",
       "<style scoped>\n",
       "    .dataframe tbody tr th:only-of-type {\n",
       "        vertical-align: middle;\n",
       "    }\n",
       "\n",
       "    .dataframe tbody tr th {\n",
       "        vertical-align: top;\n",
       "    }\n",
       "\n",
       "    .dataframe thead th {\n",
       "        text-align: right;\n",
       "    }\n",
       "</style>\n",
       "<table border=\"1\" class=\"dataframe\">\n",
       "  <thead>\n",
       "    <tr style=\"text-align: right;\">\n",
       "      <th></th>\n",
       "      <th>Residual Free Chlorine (mg/L)</th>\n",
       "      <th>Turbidity (NTU)</th>\n",
       "      <th>Fluoride (mg/L)</th>\n",
       "      <th>Coliform (Quanti-Tray) (MPN /100mL)</th>\n",
       "      <th>E.coli(Quanti-Tray) (MPN/100mL)</th>\n",
       "    </tr>\n",
       "  </thead>\n",
       "  <tbody>\n",
       "    <tr>\n",
       "      <th>count</th>\n",
       "      <td>136405.000000</td>\n",
       "      <td>136403.000000</td>\n",
       "      <td>17972.000000</td>\n",
       "      <td>136340.000000</td>\n",
       "      <td>136340.000000</td>\n",
       "    </tr>\n",
       "    <tr>\n",
       "      <th>mean</th>\n",
       "      <td>0.565828</td>\n",
       "      <td>0.724905</td>\n",
       "      <td>0.708604</td>\n",
       "      <td>1.128623</td>\n",
       "      <td>0.999934</td>\n",
       "    </tr>\n",
       "    <tr>\n",
       "      <th>std</th>\n",
       "      <td>0.215760</td>\n",
       "      <td>0.260259</td>\n",
       "      <td>0.057052</td>\n",
       "      <td>4.526426</td>\n",
       "      <td>0.027218</td>\n",
       "    </tr>\n",
       "    <tr>\n",
       "      <th>min</th>\n",
       "      <td>-9.990000</td>\n",
       "      <td>0.100000</td>\n",
       "      <td>0.030000</td>\n",
       "      <td>-9.000000</td>\n",
       "      <td>-9.000000</td>\n",
       "    </tr>\n",
       "    <tr>\n",
       "      <th>25%</th>\n",
       "      <td>0.430000</td>\n",
       "      <td>0.620000</td>\n",
       "      <td>0.690000</td>\n",
       "      <td>1.000000</td>\n",
       "      <td>1.000000</td>\n",
       "    </tr>\n",
       "    <tr>\n",
       "      <th>50%</th>\n",
       "      <td>0.580000</td>\n",
       "      <td>0.730000</td>\n",
       "      <td>0.710000</td>\n",
       "      <td>1.000000</td>\n",
       "      <td>1.000000</td>\n",
       "    </tr>\n",
       "    <tr>\n",
       "      <th>75%</th>\n",
       "      <td>0.710000</td>\n",
       "      <td>0.840000</td>\n",
       "      <td>0.730000</td>\n",
       "      <td>1.000000</td>\n",
       "      <td>1.000000</td>\n",
       "    </tr>\n",
       "    <tr>\n",
       "      <th>max</th>\n",
       "      <td>2.200000</td>\n",
       "      <td>33.800000</td>\n",
       "      <td>0.890000</td>\n",
       "      <td>200.500000</td>\n",
       "      <td>2.000000</td>\n",
       "    </tr>\n",
       "  </tbody>\n",
       "</table>\n",
       "</div>"
      ],
      "text/plain": [
       "       Residual Free Chlorine (mg/L)  Turbidity (NTU)  Fluoride (mg/L)  \\\n",
       "count                  136405.000000    136403.000000     17972.000000   \n",
       "mean                        0.565828         0.724905         0.708604   \n",
       "std                         0.215760         0.260259         0.057052   \n",
       "min                        -9.990000         0.100000         0.030000   \n",
       "25%                         0.430000         0.620000         0.690000   \n",
       "50%                         0.580000         0.730000         0.710000   \n",
       "75%                         0.710000         0.840000         0.730000   \n",
       "max                         2.200000        33.800000         0.890000   \n",
       "\n",
       "       Coliform (Quanti-Tray) (MPN /100mL)  E.coli(Quanti-Tray) (MPN/100mL)  \n",
       "count                        136340.000000                    136340.000000  \n",
       "mean                              1.128623                         0.999934  \n",
       "std                               4.526426                         0.027218  \n",
       "min                              -9.000000                        -9.000000  \n",
       "25%                               1.000000                         1.000000  \n",
       "50%                               1.000000                         1.000000  \n",
       "75%                               1.000000                         1.000000  \n",
       "max                             200.500000                         2.000000  "
      ]
     },
     "execution_count": 7,
     "metadata": {},
     "output_type": "execute_result"
    }
   ],
   "source": [
    "new_df.describe()"
   ]
  },
  {
   "cell_type": "code",
   "execution_count": 8,
   "id": "f0fb37d4-f2a8-4d5e-bcc8-eeca2e4ea98b",
   "metadata": {},
   "outputs": [
    {
     "data": {
      "text/plain": [
       "Sample class                           0.0\n",
       "Residual Free Chlorine (mg/L)          0.0\n",
       "Turbidity (NTU)                        0.0\n",
       "Fluoride (mg/L)                        0.0\n",
       "Coliform (Quanti-Tray) (MPN /100mL)    0.0\n",
       "E.coli(Quanti-Tray) (MPN/100mL)        0.0\n",
       "dtype: float64"
      ]
     },
     "execution_count": 8,
     "metadata": {},
     "output_type": "execute_result"
    }
   ],
   "source": [
    "values = {\n",
    "    'Residual Free Chlorine (mg/L)': new_df['Residual Free Chlorine (mg/L)'].median(),\n",
    "    'Turbidity (NTU)': new_df['Turbidity (NTU)'].median(),\n",
    "    'Fluoride (mg/L)': new_df['Fluoride (mg/L)'].median(),\n",
    "    'Coliform (Quanti-Tray) (MPN /100mL)': new_df['Coliform (Quanti-Tray) (MPN /100mL)'].median(),\n",
    "    'E.coli(Quanti-Tray) (MPN/100mL)': new_df['E.coli(Quanti-Tray) (MPN/100mL)'].median()\n",
    "}\n",
    "#заполняем пропуски в соответствии с заявленным словарем\n",
    "new_df = new_df.fillna(values)\n",
    "#выводим результирующую долю пропусков\n",
    "new_df.isnull().mean()"
   ]
  },
  {
   "cell_type": "code",
   "execution_count": 9,
   "id": "2e672f0c-53b8-4edd-a6cf-422c0a229ef0",
   "metadata": {},
   "outputs": [
    {
     "name": "stdout",
     "output_type": "stream",
     "text": [
      "<class 'pandas.core.frame.DataFrame'>\n",
      "RangeIndex: 136435 entries, 0 to 136434\n",
      "Data columns (total 6 columns):\n",
      " #   Column                               Non-Null Count   Dtype  \n",
      "---  ------                               --------------   -----  \n",
      " 0   Sample class                         136435 non-null  object \n",
      " 1   Residual Free Chlorine (mg/L)        136435 non-null  float64\n",
      " 2   Turbidity (NTU)                      136435 non-null  float64\n",
      " 3   Fluoride (mg/L)                      136435 non-null  float64\n",
      " 4   Coliform (Quanti-Tray) (MPN /100mL)  136435 non-null  float64\n",
      " 5   E.coli(Quanti-Tray) (MPN/100mL)      136435 non-null  float64\n",
      "dtypes: float64(5), object(1)\n",
      "memory usage: 6.2+ MB\n"
     ]
    }
   ],
   "source": [
    "new_df.info()"
   ]
  },
  {
   "cell_type": "markdown",
   "id": "d05c907a-2a86-406d-87c5-1b2ae76d736c",
   "metadata": {},
   "source": [
    "**Все пропуски заполнены и значения приведены к float**"
   ]
  },
  {
   "cell_type": "markdown",
   "id": "88e4e327-86f2-4a47-9d3c-f2fa31f2fe20",
   "metadata": {},
   "source": [
    "## XGBoost"
   ]
  },
  {
   "cell_type": "code",
   "execution_count": 10,
   "id": "5b97e02f-5dfb-4950-9f29-92e24cafeeea",
   "metadata": {},
   "outputs": [],
   "source": [
    "X = new_df.drop(['Sample class'], axis=1)\n",
    "y = new_df['Sample class']\n",
    "# Целевая переменная для модели XGBoost должна быть представлена целым числом.\n",
    "y = new_df['Sample class'].apply(lambda x: 0 if x == \"Compliance\" else \n",
    "                                           1 if x == \"Operational\" else \n",
    "                                           2 if x == \"Resample_Compliance\" else \n",
    "                                           3 if x == \"Resample_Operational\" else \n",
    "                                           4 if x == \"Op-resample\" else \n",
    "                                           5)"
   ]
  },
  {
   "cell_type": "code",
   "execution_count": 11,
   "id": "ee670be1-adc8-4ede-a602-25a583d5fa64",
   "metadata": {},
   "outputs": [],
   "source": [
    "# разделение выборки\n",
    "X_train, X_test, y_train, y_test = train_test_split(X, y, test_size=0.2, random_state=42)"
   ]
  },
  {
   "cell_type": "code",
   "execution_count": 12,
   "id": "e561c7a6-9b6a-4fc3-9e2a-ab1332aa3fed",
   "metadata": {},
   "outputs": [],
   "source": [
    "# Инициализация экзмепляра класса XGBClassifier\n",
    "xgb_classifier = xgb.XGBClassifier()"
   ]
  },
  {
   "cell_type": "code",
   "execution_count": 13,
   "id": "63c6a8dc-6cb4-4e6a-bfa8-d367c3025934",
   "metadata": {},
   "outputs": [],
   "source": [
    "# Определение сетки параметров для перебора.\n",
    "parameters = {\n",
    "    'max_depth': [3, 5, 7, 9],\n",
    "    'learning_rate': [0.2, 0.1, 0.01, 0.001],\n",
    "    'n_estimators': [20, 30, 50, 100]\n",
    "}"
   ]
  },
  {
   "cell_type": "code",
   "execution_count": 14,
   "id": "33643397-143f-4014-9ddb-bbbb13cad2c2",
   "metadata": {},
   "outputs": [],
   "source": [
    "# Инициализация экзмепляра класса GridSearchCV\n",
    "grid_search = GridSearchCV(estimator=xgb_classifier,  param_grid=parameters,  scoring='accuracy', cv=5)"
   ]
  },
  {
   "cell_type": "code",
   "execution_count": 15,
   "id": "aa59ceb3-9cab-4f96-ace6-66876a40ae40",
   "metadata": {},
   "outputs": [
    {
     "data": {
      "text/html": [
       "<style>#sk-container-id-1 {color: black;}#sk-container-id-1 pre{padding: 0;}#sk-container-id-1 div.sk-toggleable {background-color: white;}#sk-container-id-1 label.sk-toggleable__label {cursor: pointer;display: block;width: 100%;margin-bottom: 0;padding: 0.3em;box-sizing: border-box;text-align: center;}#sk-container-id-1 label.sk-toggleable__label-arrow:before {content: \"▸\";float: left;margin-right: 0.25em;color: #696969;}#sk-container-id-1 label.sk-toggleable__label-arrow:hover:before {color: black;}#sk-container-id-1 div.sk-estimator:hover label.sk-toggleable__label-arrow:before {color: black;}#sk-container-id-1 div.sk-toggleable__content {max-height: 0;max-width: 0;overflow: hidden;text-align: left;background-color: #f0f8ff;}#sk-container-id-1 div.sk-toggleable__content pre {margin: 0.2em;color: black;border-radius: 0.25em;background-color: #f0f8ff;}#sk-container-id-1 input.sk-toggleable__control:checked~div.sk-toggleable__content {max-height: 200px;max-width: 100%;overflow: auto;}#sk-container-id-1 input.sk-toggleable__control:checked~label.sk-toggleable__label-arrow:before {content: \"▾\";}#sk-container-id-1 div.sk-estimator input.sk-toggleable__control:checked~label.sk-toggleable__label {background-color: #d4ebff;}#sk-container-id-1 div.sk-label input.sk-toggleable__control:checked~label.sk-toggleable__label {background-color: #d4ebff;}#sk-container-id-1 input.sk-hidden--visually {border: 0;clip: rect(1px 1px 1px 1px);clip: rect(1px, 1px, 1px, 1px);height: 1px;margin: -1px;overflow: hidden;padding: 0;position: absolute;width: 1px;}#sk-container-id-1 div.sk-estimator {font-family: monospace;background-color: #f0f8ff;border: 1px dotted black;border-radius: 0.25em;box-sizing: border-box;margin-bottom: 0.5em;}#sk-container-id-1 div.sk-estimator:hover {background-color: #d4ebff;}#sk-container-id-1 div.sk-parallel-item::after {content: \"\";width: 100%;border-bottom: 1px solid gray;flex-grow: 1;}#sk-container-id-1 div.sk-label:hover label.sk-toggleable__label {background-color: #d4ebff;}#sk-container-id-1 div.sk-serial::before {content: \"\";position: absolute;border-left: 1px solid gray;box-sizing: border-box;top: 0;bottom: 0;left: 50%;z-index: 0;}#sk-container-id-1 div.sk-serial {display: flex;flex-direction: column;align-items: center;background-color: white;padding-right: 0.2em;padding-left: 0.2em;position: relative;}#sk-container-id-1 div.sk-item {position: relative;z-index: 1;}#sk-container-id-1 div.sk-parallel {display: flex;align-items: stretch;justify-content: center;background-color: white;position: relative;}#sk-container-id-1 div.sk-item::before, #sk-container-id-1 div.sk-parallel-item::before {content: \"\";position: absolute;border-left: 1px solid gray;box-sizing: border-box;top: 0;bottom: 0;left: 50%;z-index: -1;}#sk-container-id-1 div.sk-parallel-item {display: flex;flex-direction: column;z-index: 1;position: relative;background-color: white;}#sk-container-id-1 div.sk-parallel-item:first-child::after {align-self: flex-end;width: 50%;}#sk-container-id-1 div.sk-parallel-item:last-child::after {align-self: flex-start;width: 50%;}#sk-container-id-1 div.sk-parallel-item:only-child::after {width: 0;}#sk-container-id-1 div.sk-dashed-wrapped {border: 1px dashed gray;margin: 0 0.4em 0.5em 0.4em;box-sizing: border-box;padding-bottom: 0.4em;background-color: white;}#sk-container-id-1 div.sk-label label {font-family: monospace;font-weight: bold;display: inline-block;line-height: 1.2em;}#sk-container-id-1 div.sk-label-container {text-align: center;}#sk-container-id-1 div.sk-container {/* jupyter's `normalize.less` sets `[hidden] { display: none; }` but bootstrap.min.css set `[hidden] { display: none !important; }` so we also need the `!important` here to be able to override the default hidden behavior on the sphinx rendered scikit-learn.org. See: https://github.com/scikit-learn/scikit-learn/issues/21755 */display: inline-block !important;position: relative;}#sk-container-id-1 div.sk-text-repr-fallback {display: none;}</style><div id=\"sk-container-id-1\" class=\"sk-top-container\"><div class=\"sk-text-repr-fallback\"><pre>GridSearchCV(cv=5,\n",
       "             estimator=XGBClassifier(base_score=None, booster=None,\n",
       "                                     callbacks=None, colsample_bylevel=None,\n",
       "                                     colsample_bynode=None,\n",
       "                                     colsample_bytree=None, device=None,\n",
       "                                     early_stopping_rounds=None,\n",
       "                                     enable_categorical=False, eval_metric=None,\n",
       "                                     feature_types=None, gamma=None,\n",
       "                                     grow_policy=None, importance_type=None,\n",
       "                                     interaction_constraints=None,\n",
       "                                     learning_rate=None,...\n",
       "                                     max_cat_to_onehot=None,\n",
       "                                     max_delta_step=None, max_depth=None,\n",
       "                                     max_leaves=None, min_child_weight=None,\n",
       "                                     missing=nan, monotone_constraints=None,\n",
       "                                     multi_strategy=None, n_estimators=None,\n",
       "                                     n_jobs=None, num_parallel_tree=None,\n",
       "                                     random_state=None, ...),\n",
       "             param_grid={&#x27;learning_rate&#x27;: [0.2, 0.1, 0.01, 0.001],\n",
       "                         &#x27;max_depth&#x27;: [3, 5, 7, 9],\n",
       "                         &#x27;n_estimators&#x27;: [20, 30, 50, 100]},\n",
       "             scoring=&#x27;accuracy&#x27;)</pre><b>In a Jupyter environment, please rerun this cell to show the HTML representation or trust the notebook. <br />On GitHub, the HTML representation is unable to render, please try loading this page with nbviewer.org.</b></div><div class=\"sk-container\" hidden><div class=\"sk-item sk-dashed-wrapped\"><div class=\"sk-label-container\"><div class=\"sk-label sk-toggleable\"><input class=\"sk-toggleable__control sk-hidden--visually\" id=\"sk-estimator-id-1\" type=\"checkbox\" ><label for=\"sk-estimator-id-1\" class=\"sk-toggleable__label sk-toggleable__label-arrow\">GridSearchCV</label><div class=\"sk-toggleable__content\"><pre>GridSearchCV(cv=5,\n",
       "             estimator=XGBClassifier(base_score=None, booster=None,\n",
       "                                     callbacks=None, colsample_bylevel=None,\n",
       "                                     colsample_bynode=None,\n",
       "                                     colsample_bytree=None, device=None,\n",
       "                                     early_stopping_rounds=None,\n",
       "                                     enable_categorical=False, eval_metric=None,\n",
       "                                     feature_types=None, gamma=None,\n",
       "                                     grow_policy=None, importance_type=None,\n",
       "                                     interaction_constraints=None,\n",
       "                                     learning_rate=None,...\n",
       "                                     max_cat_to_onehot=None,\n",
       "                                     max_delta_step=None, max_depth=None,\n",
       "                                     max_leaves=None, min_child_weight=None,\n",
       "                                     missing=nan, monotone_constraints=None,\n",
       "                                     multi_strategy=None, n_estimators=None,\n",
       "                                     n_jobs=None, num_parallel_tree=None,\n",
       "                                     random_state=None, ...),\n",
       "             param_grid={&#x27;learning_rate&#x27;: [0.2, 0.1, 0.01, 0.001],\n",
       "                         &#x27;max_depth&#x27;: [3, 5, 7, 9],\n",
       "                         &#x27;n_estimators&#x27;: [20, 30, 50, 100]},\n",
       "             scoring=&#x27;accuracy&#x27;)</pre></div></div></div><div class=\"sk-parallel\"><div class=\"sk-parallel-item\"><div class=\"sk-item\"><div class=\"sk-label-container\"><div class=\"sk-label sk-toggleable\"><input class=\"sk-toggleable__control sk-hidden--visually\" id=\"sk-estimator-id-2\" type=\"checkbox\" ><label for=\"sk-estimator-id-2\" class=\"sk-toggleable__label sk-toggleable__label-arrow\">estimator: XGBClassifier</label><div class=\"sk-toggleable__content\"><pre>XGBClassifier(base_score=None, booster=None, callbacks=None,\n",
       "              colsample_bylevel=None, colsample_bynode=None,\n",
       "              colsample_bytree=None, device=None, early_stopping_rounds=None,\n",
       "              enable_categorical=False, eval_metric=None, feature_types=None,\n",
       "              gamma=None, grow_policy=None, importance_type=None,\n",
       "              interaction_constraints=None, learning_rate=None, max_bin=None,\n",
       "              max_cat_threshold=None, max_cat_to_onehot=None,\n",
       "              max_delta_step=None, max_depth=None, max_leaves=None,\n",
       "              min_child_weight=None, missing=nan, monotone_constraints=None,\n",
       "              multi_strategy=None, n_estimators=None, n_jobs=None,\n",
       "              num_parallel_tree=None, random_state=None, ...)</pre></div></div></div><div class=\"sk-serial\"><div class=\"sk-item\"><div class=\"sk-estimator sk-toggleable\"><input class=\"sk-toggleable__control sk-hidden--visually\" id=\"sk-estimator-id-3\" type=\"checkbox\" ><label for=\"sk-estimator-id-3\" class=\"sk-toggleable__label sk-toggleable__label-arrow\">XGBClassifier</label><div class=\"sk-toggleable__content\"><pre>XGBClassifier(base_score=None, booster=None, callbacks=None,\n",
       "              colsample_bylevel=None, colsample_bynode=None,\n",
       "              colsample_bytree=None, device=None, early_stopping_rounds=None,\n",
       "              enable_categorical=False, eval_metric=None, feature_types=None,\n",
       "              gamma=None, grow_policy=None, importance_type=None,\n",
       "              interaction_constraints=None, learning_rate=None, max_bin=None,\n",
       "              max_cat_threshold=None, max_cat_to_onehot=None,\n",
       "              max_delta_step=None, max_depth=None, max_leaves=None,\n",
       "              min_child_weight=None, missing=nan, monotone_constraints=None,\n",
       "              multi_strategy=None, n_estimators=None, n_jobs=None,\n",
       "              num_parallel_tree=None, random_state=None, ...)</pre></div></div></div></div></div></div></div></div></div></div>"
      ],
      "text/plain": [
       "GridSearchCV(cv=5,\n",
       "             estimator=XGBClassifier(base_score=None, booster=None,\n",
       "                                     callbacks=None, colsample_bylevel=None,\n",
       "                                     colsample_bynode=None,\n",
       "                                     colsample_bytree=None, device=None,\n",
       "                                     early_stopping_rounds=None,\n",
       "                                     enable_categorical=False, eval_metric=None,\n",
       "                                     feature_types=None, gamma=None,\n",
       "                                     grow_policy=None, importance_type=None,\n",
       "                                     interaction_constraints=None,\n",
       "                                     learning_rate=None,...\n",
       "                                     max_cat_to_onehot=None,\n",
       "                                     max_delta_step=None, max_depth=None,\n",
       "                                     max_leaves=None, min_child_weight=None,\n",
       "                                     missing=nan, monotone_constraints=None,\n",
       "                                     multi_strategy=None, n_estimators=None,\n",
       "                                     n_jobs=None, num_parallel_tree=None,\n",
       "                                     random_state=None, ...),\n",
       "             param_grid={'learning_rate': [0.2, 0.1, 0.01, 0.001],\n",
       "                         'max_depth': [3, 5, 7, 9],\n",
       "                         'n_estimators': [20, 30, 50, 100]},\n",
       "             scoring='accuracy')"
      ]
     },
     "execution_count": 15,
     "metadata": {},
     "output_type": "execute_result"
    }
   ],
   "source": [
    "# Обучение модели с перебором параметров\n",
    "grid_search.fit(X_train, y_train)"
   ]
  },
  {
   "cell_type": "code",
   "execution_count": 16,
   "id": "7224f805-2ca6-4137-a0f5-5443b21e00c6",
   "metadata": {},
   "outputs": [
    {
     "name": "stdout",
     "output_type": "stream",
     "text": [
      "Лучшие параметры: {'learning_rate': 0.2, 'max_depth': 3, 'n_estimators': 100}\n",
      "Точность на обучающем наборе: 0.7445670446381987\n",
      "Точность на тестовом наборе: 0.7467658592003518\n"
     ]
    }
   ],
   "source": [
    "# Лучшие параметры и точность модели\n",
    "best_params = grid_search.best_params_\n",
    "best_score = grid_search.best_score_\n",
    "\n",
    "print(\"Лучшие параметры:\", best_params)\n",
    "print(\"Точность на обучающем наборе:\", best_score)\n",
    "\n",
    "# Оценка модели на тестовом наборе\n",
    "y_pred = grid_search.predict(X_test)\n",
    "accuracy = accuracy_score(y_test, y_pred)\n",
    "print(\"Точность на тестовом наборе:\", accuracy)"
   ]
  },
  {
   "cell_type": "markdown",
   "id": "136cffa5-8c17-4023-bf05-b59f1ca3f9da",
   "metadata": {},
   "source": [
    "**Важность признаков (Feature Importance)**"
   ]
  },
  {
   "cell_type": "code",
   "execution_count": 17,
   "id": "055c1ded-3ac1-4286-83d9-0d85c4319aa8",
   "metadata": {},
   "outputs": [
    {
     "data": {
      "image/png": "[encoded data removed]",
      "text/plain": [
       "<Figure size 640x480 with 1 Axes>"
      ]
     },
     "metadata": {},
     "output_type": "display_data"
    }
   ],
   "source": [
    "best_xg_model = grid_search.best_estimator_\n",
    "\n",
    "plot_importance(best_xg_model)\n",
    "plt.show()"
   ]
  },
  {
   "cell_type": "markdown",
   "id": "826b755d-08dc-4c4d-b897-83857ac50f90",
   "metadata": {},
   "source": [
    "**Матрица ошибок (Confusion matrix)**"
   ]
  },
  {
   "cell_type": "code",
   "execution_count": 18,
   "id": "e3d95e46-4dc2-44ae-b02a-f6bb2f714fe1",
   "metadata": {},
   "outputs": [
    {
     "data": {
      "image/png": "[encoded data removed]",
      "text/plain": [
       "<Figure size 1000x800 with 2 Axes>"
      ]
     },
     "metadata": {},
     "output_type": "display_data"
    }
   ],
   "source": [
    "# Вычисление матрицы ошибок\n",
    "cm = confusion_matrix(y_test, y_pred)\n",
    "\n",
    "# Визуализация матрицы ошибок\n",
    "plt.figure(figsize=(10, 8))\n",
    "sns.heatmap(cm, annot=True, fmt=\".0f\", cmap=\"Blues\")\n",
    "plt.xlabel(\"Predicted labels\")\n",
    "plt.ylabel(\"True labels\")\n",
    "plt.show()"
   ]
  },
  {
   "cell_type": "markdown",
   "id": "df562194-1b41-485f-9808-c49463ce19a5",
   "metadata": {},
   "source": [
    "## Catboost"
   ]
  },
  {
   "cell_type": "code",
   "execution_count": 19,
   "id": "18d20d0a-96ae-4028-8256-fd5542a925e7",
   "metadata": {},
   "outputs": [],
   "source": [
    "X = new_df.drop(['Sample class'], axis=1)\n",
    "y = new_df['Sample class']\n",
    "\n",
    "X_train, X_test, y_train, y_test = train_test_split(X, y, test_size=0.2, random_state=42)"
   ]
  },
  {
   "cell_type": "code",
   "execution_count": 20,
   "id": "9c951483-83bd-4ba8-975a-a6dfe584a706",
   "metadata": {},
   "outputs": [],
   "source": [
    "dict_of_params = {\n",
    "    'iterations': [30, 50, 70],\n",
    "    'depth': [3, 5, 7],\n",
    "    'learning_rate': [0.01, 0.3],\n",
    "    'l2_leaf_reg': [1, 3, 5, 7, 9]\n",
    "}"
   ]
  },
  {
   "cell_type": "code",
   "execution_count": 21,
   "id": "d30d4a8e-1c5e-4948-999a-bedf6bc96042",
   "metadata": {},
   "outputs": [],
   "source": [
    "# Переводим словарь dict_of_params в формат Hyperopt\n",
    "space = {\n",
    "    'iterations': hp.choice('iterations', dict_of_params[\"iterations\"]),\n",
    "    'depth': hp.choice('depth', dict_of_params[\"depth\"]),\n",
    "    'learning_rate': hp.uniform('learning_rate', dict_of_params[\"learning_rate\"][0], dict_of_params[\"learning_rate\"][1]),\n",
    "    'l2_leaf_reg': hp.choice('l2_leaf_reg', dict_of_params[\"l2_leaf_reg\"])\n",
    "}"
   ]
  },
  {
   "cell_type": "code",
   "execution_count": 22,
   "id": "1abfaa82-fb3c-4bb9-8d1a-f6bec7a76ce0",
   "metadata": {},
   "outputs": [],
   "source": [
    "# Определяем функцию для оптимизации с гиперпараметрами\n",
    "def objective(params):\n",
    "    model = cb.CatBoostClassifier(**params)\n",
    "    model.fit(X_train, y_train, silent=True)\n",
    "    y_pred = model.predict(X_test)\n",
    "    score = accuracy_score(y_test, y_pred)\n",
    "    return score"
   ]
  },
  {
   "cell_type": "code",
   "execution_count": 23,
   "id": "c673d6ae-bc83-4e5b-888b-708b25afbcaf",
   "metadata": {},
   "outputs": [
    {
     "name": "stdout",
     "output_type": "stream",
     "text": [
      "100%|███████| 100/100 [01:43<00:00,  1.03s/trial, best loss: 0.7367244475391211]\n"
     ]
    }
   ],
   "source": [
    "# Запускаем оптимизацию с помощью Hyperopt\n",
    "trials = Trials()\n",
    "best = fmin(objective, space, algo=tpe.suggest, max_evals=100, trials=trials)"
   ]
  },
  {
   "cell_type": "code",
   "execution_count": 24,
   "id": "180a1857-b9ac-4136-8665-00e0e8935a0b",
   "metadata": {},
   "outputs": [
    {
     "name": "stdout",
     "output_type": "stream",
     "text": [
      "Точность модели: 0.7367244475391211\n"
     ]
    }
   ],
   "source": [
    "# Получаем лучшие значения гиперпараметров\n",
    "final_best_params = {}\n",
    "for key in best:\n",
    "    try:\n",
    "        final_best_params[key] = dict_of_params[key][best[key]]\n",
    "    except:\n",
    "        final_best_params[key] = best[key]\n",
    "\n",
    "\n",
    "# Обучаем модель с лучшими гиперпараметрами\n",
    "# Создание экземпляра CatBoostClassifier\n",
    "model = cb.CatBoostClassifier(**final_best_params)\n",
    "model.fit(X_train, y_train, silent=True)\n",
    "\n",
    "\n",
    "# Предсказываем классы для тестовых данных\n",
    "y_pred = model.predict(X_test)\n",
    "\n",
    "# Вычисляем точность модели\n",
    "accuracy = accuracy_score(y_test, y_pred)\n",
    "\n",
    "# Выводим результаты\n",
    "print(\"Точность модели:\", accuracy)"
   ]
  },
  {
   "cell_type": "markdown",
   "id": "5995e678-0c53-4c05-8825-d11f4d5897ec",
   "metadata": {},
   "source": [
    "**Важность признаков (Feature Importance)**"
   ]
  },
  {
   "cell_type": "code",
   "execution_count": 25,
   "id": "20a01333-08b9-4e65-8724-0402a7d73c60",
   "metadata": {},
   "outputs": [
    {
     "data": {
      "image/png": "[encoded data removed]",
      "text/plain": [
       "<Figure size 640x480 with 1 Axes>"
      ]
     },
     "metadata": {},
     "output_type": "display_data"
    }
   ],
   "source": [
    "feature_importance = model.get_feature_importance()\n",
    "feature_names = model.feature_names_\n",
    "\n",
    "plt.barh(feature_names, feature_importance)\n",
    "plt.xlabel('Feature importance')\n",
    "plt.ylabel('Features')\n",
    "plt.show()"
   ]
  },
  {
   "cell_type": "markdown",
   "id": "35280642-0114-4ecf-944b-ba6466ce3d8f",
   "metadata": {},
   "source": [
    "## BaggingClassifier"
   ]
  },
  {
   "cell_type": "code",
   "execution_count": 26,
   "id": "46c12740-28ff-48e4-bdfc-80ec4ad4a620",
   "metadata": {},
   "outputs": [],
   "source": [
    "# Разделение набора данных на признаки и целевую переменную\n",
    "X = new_df.drop(['Sample class'], axis=1)\n",
    "y = new_df['Sample class']"
   ]
  },
  {
   "cell_type": "code",
   "execution_count": 27,
   "id": "176dd0b4-988c-4677-9a5a-1e05c235e52f",
   "metadata": {},
   "outputs": [],
   "source": [
    "# Разделение набора данных на обучающий и тестовый наборы\n",
    "X_train, X_test, y_train, y_test = train_test_split(X, y, test_size=0.2, random_state=42)"
   ]
  },
  {
   "cell_type": "code",
   "execution_count": 28,
   "id": "b33ee6fb-a75f-400f-b067-1126d6ebacb0",
   "metadata": {},
   "outputs": [],
   "source": [
    "#Определение гиперпараматров и создание модели\n",
    "bagging_water_quality = BaggingClassifier(estimator = DecisionTreeClassifier(), n_estimators = 20, random_state = 0)"
   ]
  },
  {
   "cell_type": "code",
   "execution_count": 29,
   "id": "53a7b9a6-4707-43f4-a5f3-dcdc5b62a7ef",
   "metadata": {},
   "outputs": [
    {
     "data": {
      "text/html": [
       "<style>#sk-container-id-2 {color: black;}#sk-container-id-2 pre{padding: 0;}#sk-container-id-2 div.sk-toggleable {background-color: white;}#sk-container-id-2 label.sk-toggleable__label {cursor: pointer;display: block;width: 100%;margin-bottom: 0;padding: 0.3em;box-sizing: border-box;text-align: center;}#sk-container-id-2 label.sk-toggleable__label-arrow:before {content: \"▸\";float: left;margin-right: 0.25em;color: #696969;}#sk-container-id-2 label.sk-toggleable__label-arrow:hover:before {color: black;}#sk-container-id-2 div.sk-estimator:hover label.sk-toggleable__label-arrow:before {color: black;}#sk-container-id-2 div.sk-toggleable__content {max-height: 0;max-width: 0;overflow: hidden;text-align: left;background-color: #f0f8ff;}#sk-container-id-2 div.sk-toggleable__content pre {margin: 0.2em;color: black;border-radius: 0.25em;background-color: #f0f8ff;}#sk-container-id-2 input.sk-toggleable__control:checked~div.sk-toggleable__content {max-height: 200px;max-width: 100%;overflow: auto;}#sk-container-id-2 input.sk-toggleable__control:checked~label.sk-toggleable__label-arrow:before {content: \"▾\";}#sk-container-id-2 div.sk-estimator input.sk-toggleable__control:checked~label.sk-toggleable__label {background-color: #d4ebff;}#sk-container-id-2 div.sk-label input.sk-toggleable__control:checked~label.sk-toggleable__label {background-color: #d4ebff;}#sk-container-id-2 input.sk-hidden--visually {border: 0;clip: rect(1px 1px 1px 1px);clip: rect(1px, 1px, 1px, 1px);height: 1px;margin: -1px;overflow: hidden;padding: 0;position: absolute;width: 1px;}#sk-container-id-2 div.sk-estimator {font-family: monospace;background-color: #f0f8ff;border: 1px dotted black;border-radius: 0.25em;box-sizing: border-box;margin-bottom: 0.5em;}#sk-container-id-2 div.sk-estimator:hover {background-color: #d4ebff;}#sk-container-id-2 div.sk-parallel-item::after {content: \"\";width: 100%;border-bottom: 1px solid gray;flex-grow: 1;}#sk-container-id-2 div.sk-label:hover label.sk-toggleable__label {background-color: #d4ebff;}#sk-container-id-2 div.sk-serial::before {content: \"\";position: absolute;border-left: 1px solid gray;box-sizing: border-box;top: 0;bottom: 0;left: 50%;z-index: 0;}#sk-container-id-2 div.sk-serial {display: flex;flex-direction: column;align-items: center;background-color: white;padding-right: 0.2em;padding-left: 0.2em;position: relative;}#sk-container-id-2 div.sk-item {position: relative;z-index: 1;}#sk-container-id-2 div.sk-parallel {display: flex;align-items: stretch;justify-content: center;background-color: white;position: relative;}#sk-container-id-2 div.sk-item::before, #sk-container-id-2 div.sk-parallel-item::before {content: \"\";position: absolute;border-left: 1px solid gray;box-sizing: border-box;top: 0;bottom: 0;left: 50%;z-index: -1;}#sk-container-id-2 div.sk-parallel-item {display: flex;flex-direction: column;z-index: 1;position: relative;background-color: white;}#sk-container-id-2 div.sk-parallel-item:first-child::after {align-self: flex-end;width: 50%;}#sk-container-id-2 div.sk-parallel-item:last-child::after {align-self: flex-start;width: 50%;}#sk-container-id-2 div.sk-parallel-item:only-child::after {width: 0;}#sk-container-id-2 div.sk-dashed-wrapped {border: 1px dashed gray;margin: 0 0.4em 0.5em 0.4em;box-sizing: border-box;padding-bottom: 0.4em;background-color: white;}#sk-container-id-2 div.sk-label label {font-family: monospace;font-weight: bold;display: inline-block;line-height: 1.2em;}#sk-container-id-2 div.sk-label-container {text-align: center;}#sk-container-id-2 div.sk-container {/* jupyter's `normalize.less` sets `[hidden] { display: none; }` but bootstrap.min.css set `[hidden] { display: none !important; }` so we also need the `!important` here to be able to override the default hidden behavior on the sphinx rendered scikit-learn.org. See: https://github.com/scikit-learn/scikit-learn/issues/21755 */display: inline-block !important;position: relative;}#sk-container-id-2 div.sk-text-repr-fallback {display: none;}</style><div id=\"sk-container-id-2\" class=\"sk-top-container\"><div class=\"sk-text-repr-fallback\"><pre>BaggingClassifier(estimator=DecisionTreeClassifier(), n_estimators=20,\n",
       "                  random_state=0)</pre><b>In a Jupyter environment, please rerun this cell to show the HTML representation or trust the notebook. <br />On GitHub, the HTML representation is unable to render, please try loading this page with nbviewer.org.</b></div><div class=\"sk-container\" hidden><div class=\"sk-item sk-dashed-wrapped\"><div class=\"sk-label-container\"><div class=\"sk-label sk-toggleable\"><input class=\"sk-toggleable__control sk-hidden--visually\" id=\"sk-estimator-id-4\" type=\"checkbox\" ><label for=\"sk-estimator-id-4\" class=\"sk-toggleable__label sk-toggleable__label-arrow\">BaggingClassifier</label><div class=\"sk-toggleable__content\"><pre>BaggingClassifier(estimator=DecisionTreeClassifier(), n_estimators=20,\n",
       "                  random_state=0)</pre></div></div></div><div class=\"sk-parallel\"><div class=\"sk-parallel-item\"><div class=\"sk-item\"><div class=\"sk-label-container\"><div class=\"sk-label sk-toggleable\"><input class=\"sk-toggleable__control sk-hidden--visually\" id=\"sk-estimator-id-5\" type=\"checkbox\" ><label for=\"sk-estimator-id-5\" class=\"sk-toggleable__label sk-toggleable__label-arrow\">estimator: DecisionTreeClassifier</label><div class=\"sk-toggleable__content\"><pre>DecisionTreeClassifier()</pre></div></div></div><div class=\"sk-serial\"><div class=\"sk-item\"><div class=\"sk-estimator sk-toggleable\"><input class=\"sk-toggleable__control sk-hidden--visually\" id=\"sk-estimator-id-6\" type=\"checkbox\" ><label for=\"sk-estimator-id-6\" class=\"sk-toggleable__label sk-toggleable__label-arrow\">DecisionTreeClassifier</label><div class=\"sk-toggleable__content\"><pre>DecisionTreeClassifier()</pre></div></div></div></div></div></div></div></div></div></div>"
      ],
      "text/plain": [
       "BaggingClassifier(estimator=DecisionTreeClassifier(), n_estimators=20,\n",
       "                  random_state=0)"
      ]
     },
     "execution_count": 29,
     "metadata": {},
     "output_type": "execute_result"
    }
   ],
   "source": [
    "# Обучение бэггинг-регрессора на обучающем наборе\n",
    "bagging_water_quality.fit(X_train, y_train)"
   ]
  },
  {
   "cell_type": "code",
   "execution_count": 30,
   "id": "f7cf3cf4-f896-416f-a4f8-a33350e3782d",
   "metadata": {},
   "outputs": [
    {
     "name": "stdout",
     "output_type": "stream",
     "text": [
      "0.7278191080001466\n"
     ]
    }
   ],
   "source": [
    "# Оценка модели на тестовом наборе\n",
    "y_pred = bagging_water_quality.predict(X_test)\n",
    "accuracy_bagging_water_quality = accuracy_score(y_test, y_pred)\n",
    "print(accuracy_bagging_water_quality)"
   ]
  },
  {
   "cell_type": "markdown",
   "id": "d9bbd144-e239-4481-af1c-146b087e436e",
   "metadata": {},
   "source": [
    "## LogisticRegression"
   ]
  },
  {
   "cell_type": "code",
   "execution_count": 31,
   "id": "8e254c0c-922e-4f07-988c-10036bfd3716",
   "metadata": {},
   "outputs": [],
   "source": [
    "# Разделение набора данных на признаки и целевую переменную\n",
    "X = new_df.drop(['Sample class'], axis=1)\n",
    "y = new_df['Sample class']"
   ]
  },
  {
   "cell_type": "code",
   "execution_count": 32,
   "id": "b1a3c9fb-3ed5-4255-9587-fd6cdb69aa50",
   "metadata": {},
   "outputs": [],
   "source": [
    "# Cоздание модели\n",
    "logistic_regression_water_quality = LogisticRegression(multi_class = 'multinomial', solver = 'lbfgs', max_iter = 1000)"
   ]
  },
  {
   "cell_type": "code",
   "execution_count": 33,
   "id": "7a5d72a0-7d4f-404f-babb-17226d51581a",
   "metadata": {},
   "outputs": [
    {
     "data": {
      "text/html": [
       "<style>#sk-container-id-3 {color: black;}#sk-container-id-3 pre{padding: 0;}#sk-container-id-3 div.sk-toggleable {background-color: white;}#sk-container-id-3 label.sk-toggleable__label {cursor: pointer;display: block;width: 100%;margin-bottom: 0;padding: 0.3em;box-sizing: border-box;text-align: center;}#sk-container-id-3 label.sk-toggleable__label-arrow:before {content: \"▸\";float: left;margin-right: 0.25em;color: #696969;}#sk-container-id-3 label.sk-toggleable__label-arrow:hover:before {color: black;}#sk-container-id-3 div.sk-estimator:hover label.sk-toggleable__label-arrow:before {color: black;}#sk-container-id-3 div.sk-toggleable__content {max-height: 0;max-width: 0;overflow: hidden;text-align: left;background-color: #f0f8ff;}#sk-container-id-3 div.sk-toggleable__content pre {margin: 0.2em;color: black;border-radius: 0.25em;background-color: #f0f8ff;}#sk-container-id-3 input.sk-toggleable__control:checked~div.sk-toggleable__content {max-height: 200px;max-width: 100%;overflow: auto;}#sk-container-id-3 input.sk-toggleable__control:checked~label.sk-toggleable__label-arrow:before {content: \"▾\";}#sk-container-id-3 div.sk-estimator input.sk-toggleable__control:checked~label.sk-toggleable__label {background-color: #d4ebff;}#sk-container-id-3 div.sk-label input.sk-toggleable__control:checked~label.sk-toggleable__label {background-color: #d4ebff;}#sk-container-id-3 input.sk-hidden--visually {border: 0;clip: rect(1px 1px 1px 1px);clip: rect(1px, 1px, 1px, 1px);height: 1px;margin: -1px;overflow: hidden;padding: 0;position: absolute;width: 1px;}#sk-container-id-3 div.sk-estimator {font-family: monospace;background-color: #f0f8ff;border: 1px dotted black;border-radius: 0.25em;box-sizing: border-box;margin-bottom: 0.5em;}#sk-container-id-3 div.sk-estimator:hover {background-color: #d4ebff;}#sk-container-id-3 div.sk-parallel-item::after {content: \"\";width: 100%;border-bottom: 1px solid gray;flex-grow: 1;}#sk-container-id-3 div.sk-label:hover label.sk-toggleable__label {background-color: #d4ebff;}#sk-container-id-3 div.sk-serial::before {content: \"\";position: absolute;border-left: 1px solid gray;box-sizing: border-box;top: 0;bottom: 0;left: 50%;z-index: 0;}#sk-container-id-3 div.sk-serial {display: flex;flex-direction: column;align-items: center;background-color: white;padding-right: 0.2em;padding-left: 0.2em;position: relative;}#sk-container-id-3 div.sk-item {position: relative;z-index: 1;}#sk-container-id-3 div.sk-parallel {display: flex;align-items: stretch;justify-content: center;background-color: white;position: relative;}#sk-container-id-3 div.sk-item::before, #sk-container-id-3 div.sk-parallel-item::before {content: \"\";position: absolute;border-left: 1px solid gray;box-sizing: border-box;top: 0;bottom: 0;left: 50%;z-index: -1;}#sk-container-id-3 div.sk-parallel-item {display: flex;flex-direction: column;z-index: 1;position: relative;background-color: white;}#sk-container-id-3 div.sk-parallel-item:first-child::after {align-self: flex-end;width: 50%;}#sk-container-id-3 div.sk-parallel-item:last-child::after {align-self: flex-start;width: 50%;}#sk-container-id-3 div.sk-parallel-item:only-child::after {width: 0;}#sk-container-id-3 div.sk-dashed-wrapped {border: 1px dashed gray;margin: 0 0.4em 0.5em 0.4em;box-sizing: border-box;padding-bottom: 0.4em;background-color: white;}#sk-container-id-3 div.sk-label label {font-family: monospace;font-weight: bold;display: inline-block;line-height: 1.2em;}#sk-container-id-3 div.sk-label-container {text-align: center;}#sk-container-id-3 div.sk-container {/* jupyter's `normalize.less` sets `[hidden] { display: none; }` but bootstrap.min.css set `[hidden] { display: none !important; }` so we also need the `!important` here to be able to override the default hidden behavior on the sphinx rendered scikit-learn.org. See: https://github.com/scikit-learn/scikit-learn/issues/21755 */display: inline-block !important;position: relative;}#sk-container-id-3 div.sk-text-repr-fallback {display: none;}</style><div id=\"sk-container-id-3\" class=\"sk-top-container\"><div class=\"sk-text-repr-fallback\"><pre>LogisticRegression(max_iter=1000, multi_class=&#x27;multinomial&#x27;)</pre><b>In a Jupyter environment, please rerun this cell to show the HTML representation or trust the notebook. <br />On GitHub, the HTML representation is unable to render, please try loading this page with nbviewer.org.</b></div><div class=\"sk-container\" hidden><div class=\"sk-item\"><div class=\"sk-estimator sk-toggleable\"><input class=\"sk-toggleable__control sk-hidden--visually\" id=\"sk-estimator-id-7\" type=\"checkbox\" checked><label for=\"sk-estimator-id-7\" class=\"sk-toggleable__label sk-toggleable__label-arrow\">LogisticRegression</label><div class=\"sk-toggleable__content\"><pre>LogisticRegression(max_iter=1000, multi_class=&#x27;multinomial&#x27;)</pre></div></div></div></div></div>"
      ],
      "text/plain": [
       "LogisticRegression(max_iter=1000, multi_class='multinomial')"
      ]
     },
     "execution_count": 33,
     "metadata": {},
     "output_type": "execute_result"
    }
   ],
   "source": [
    "# Обучение модели на обучающем наборе\n",
    "logistic_regression_water_quality.fit(X_train, y_train)"
   ]
  },
  {
   "cell_type": "code",
   "execution_count": 34,
   "id": "381d1ecf-a24c-42aa-bc43-dbeb0cc2ba85",
   "metadata": {},
   "outputs": [
    {
     "name": "stdout",
     "output_type": "stream",
     "text": [
      "0.7068200974823176\n"
     ]
    }
   ],
   "source": [
    "# Оценка модели на тестовом наборе\n",
    "y_pred = logistic_regression_water_quality.predict(X_test)\n",
    "accuracy_logistic_regression_water_quality = accuracy_score(y_test, y_pred)\n",
    "print(accuracy_logistic_regression_water_quality)"
   ]
  },
  {
   "cell_type": "markdown",
   "id": "942b27ba-0b76-4d91-8d30-e7dfe93f90a9",
   "metadata": {},
   "source": [
    "# Наилучший результат показала модель XGBoost"
   ]
  },
  {
   "cell_type": "markdown",
   "id": "b3d4951c-4c51-4d00-8747-a1c5947730b1",
   "metadata": {},
   "source": [
    "## XGBoost - 0.75\n",
    "#### CatBoost - 0.74\n",
    "#### BaggingClassifier - 0.73\n",
    "#### LogisticRegression - 0.71"
   ]
  },
  {
   "cell_type": "markdown",
   "id": "a05b9e42",
   "metadata": {},
   "source": [
    "# Сохранение обученной модели XGBoost"
   ]
  },
  {
   "cell_type": "code",
   "execution_count": null,
   "id": "66d5e90b",
   "metadata": {},
   "outputs": [],
   "source": [
    "# сохраняем модель в заданный файл\n",
    "filename = 'grid_xgboost_params.sav'\n",
    "pickle.dump(grid_search, open(filename, 'wb'))"
   ]
  },
  {
   "cell_type": "code",
   "execution_count": null,
   "id": "efa72357",
   "metadata": {},
   "outputs": [
    {
     "name": "stdout",
     "output_type": "stream",
     "text": [
      "{'learning_rate': 0.2, 'max_depth': 3, 'n_estimators': 100}\n"
     ]
    }
   ],
   "source": [
    "# можно прочитать модель из файла и убедиться, что сохранение прошло успешно (параметры модели остались неизменными)\n",
    "model = pickle.load(open('grid_xgboost_params.sav', 'rb'))\n",
    "print(model.best_params_)"
   ]
  }
 ],
 "metadata": {
  "kernelspec": {
   "display_name": "Python 3 (ipykernel)",
   "language": "python",
   "name": "python3"
  },
  "language_info": {
   "codemirror_mode": {
    "name": "ipython",
    "version": 3
   },
   "file_extension": ".py",
   "mimetype": "text/x-python",
   "name": "python",
   "nbconvert_exporter": "python",
   "pygments_lexer": "ipython3",
   "version": "3.11.4"
  }
 },
 "nbformat": 4,
 "nbformat_minor": 5
}
